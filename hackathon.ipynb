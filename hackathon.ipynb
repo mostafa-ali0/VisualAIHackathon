{
 "cells": [
  {
   "cell_type": "markdown",
   "metadata": {},
   "source": [
    "# Voxel51 Visual AI Hackathon"
   ]
  },
  {
   "cell_type": "code",
   "execution_count": 1,
   "metadata": {},
   "outputs": [],
   "source": [
    "import fiftyone as fo\n",
    "import fiftyone.zoo as foz"
   ]
  },
  {
   "cell_type": "code",
   "execution_count": 5,
   "metadata": {},
   "outputs": [
    {
     "name": "stdout",
     "output_type": "stream",
     "text": [
      "Preparing split 'validation' in 'C:\\Users\\tamze\\fiftyone\\cityscapes\\validation'\n",
      "Parsing dataset metadata\n",
      "Found 398 samples\n",
      "Dataset info written to 'C:\\Users\\tamze\\fiftyone\\cityscapes\\info.json'\n",
      "Loading 'cityscapes' split 'validation'\n",
      " 100% |█████████████████| 398/398 [76.3ms elapsed, 0s remaining, 5.2K samples/s]   \n",
      "Dataset 'cityscapes-validation' created\n",
      "Connected to FiftyOne on port 5151 at localhost.\n",
      "If you are not connecting to a remote session, you may need to start a new session and specify a port\n"
     ]
    },
    {
     "data": {
      "text/html": [
       "\n",
       "        <iframe\n",
       "            width=\"100%\"\n",
       "            height=\"800\"\n",
       "            src=\"http://localhost:5151/?notebook=True&subscription=248da5f6-c9c9-474c-af5d-d8388afa5a77\"\n",
       "            frameborder=\"0\"\n",
       "            allowfullscreen\n",
       "            \n",
       "        ></iframe>\n",
       "        "
      ],
      "text/plain": [
       "<IPython.lib.display.IFrame at 0x1fbf5589d30>"
      ]
     },
     "metadata": {},
     "output_type": "display_data"
    }
   ],
   "source": [
    "# The path to the source files that you manually downloaded\n",
    "source_dir = \"data_dir\"\n",
    "\n",
    "dataset = foz.load_zoo_dataset(\n",
    "    \"cityscapes\",\n",
    "    split=\"validation\",\n",
    "    source_dir=source_dir,\n",
    ")\n",
    "\n",
    "session = fo.launch_app(dataset)"
   ]
  }
 ],
 "metadata": {
  "kernelspec": {
   "display_name": ".venv",
   "language": "python",
   "name": "python3"
  },
  "language_info": {
   "codemirror_mode": {
    "name": "ipython",
    "version": 3
   },
   "file_extension": ".py",
   "mimetype": "text/x-python",
   "name": "python",
   "nbconvert_exporter": "python",
   "pygments_lexer": "ipython3",
   "version": "3.12.7"
  }
 },
 "nbformat": 4,
 "nbformat_minor": 2
}
